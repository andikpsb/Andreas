{
 "cells": [
  {
   "cell_type": "code",
   "execution_count": 21,
   "metadata": {},
   "outputs": [
    {
     "name": "stdout",
     "output_type": "stream",
     "text": [
      "\u001b[32m\u001b[1m      Status\u001b[22m\u001b[39m `C:\\Users\\kappe\\.julia\\environments\\v1.7\\Project.toml`\n",
      " \u001b[90m [9961bab8] \u001b[39mCbc v1.0.1\n",
      " \u001b[90m [ae04f764] \u001b[39mConditionalJuMP v0.1.0\n",
      " \u001b[90m [c04bee98] \u001b[39mExcelReaders v0.11.0\n",
      " \u001b[90m [42e2da0e] \u001b[39mGrisu v1.0.2\n",
      " \u001b[90m [87dc4568] \u001b[39mHiGHS v1.1.4\n",
      " \u001b[90m [7073ff75] \u001b[39mIJulia v1.23.3\n",
      " \u001b[90m [4076af6c] \u001b[39mJuMP v0.18.6\n",
      " \u001b[90m [fdbf4ff8] \u001b[39mXLSX v0.7.10\n"
     ]
    },
    {
     "name": "stderr",
     "output_type": "stream",
     "text": [
      "\u001b[32m\u001b[1m    Updating\u001b[22m\u001b[39m registry at `C:\\Users\\kappe\\.julia\\registries\\General.toml`\n",
      "\u001b[32m\u001b[1m  No Changes\u001b[22m\u001b[39m to `C:\\Users\\kappe\\.julia\\environments\\v1.7\\Project.toml`\n",
      "\u001b[32m\u001b[1m  No Changes\u001b[22m\u001b[39m to `C:\\Users\\kappe\\.julia\\environments\\v1.7\\Manifest.toml`\n"
     ]
    }
   ],
   "source": [
    "using Pkg\n",
    "Pkg.status()\n",
    "Pkg.update()"
   ]
  },
  {
   "cell_type": "code",
   "execution_count": 22,
   "metadata": {},
   "outputs": [],
   "source": [
    "using HiGHS\n",
    "using XLSX"
   ]
  },
  {
   "cell_type": "code",
   "execution_count": 23,
   "metadata": {},
   "outputs": [
    {
     "name": "stderr",
     "output_type": "stream",
     "text": [
      "┌ Info: Precompiling JuMP [4076af6c-e467-56ae-b986-b466b2749572]\n",
      "└ @ Base loading.jl:1423\n",
      "\u001b[91m\u001b[1mERROR: \u001b[22m\u001b[39mLoadError: UndefVarError: Grisu not defined\n",
      "Stacktrace:\n",
      "  [1] \u001b[0m\u001b[1mgetproperty\u001b[22m\u001b[0m\u001b[1m(\u001b[22m\u001b[90mx\u001b[39m::\u001b[0mModule, \u001b[90mf\u001b[39m::\u001b[0mSymbol\u001b[0m\u001b[1m)\u001b[22m\n",
      "\u001b[90m    @ \u001b[39m\u001b[90mBase\u001b[39m \u001b[90m.\\\u001b[39m\u001b[90m\u001b[4mBase.jl:35\u001b[24m\u001b[39m\n",
      "  [2] top-level scope\n",
      "\u001b[90m    @ \u001b[39m\u001b[90mC:\\Users\\kappe\\.julia\\packages\\JuMP\\I7whV\\src\\\u001b[39m\u001b[90m\u001b[4mwriters.jl:6\u001b[24m\u001b[39m\n",
      "  [3] \u001b[0m\u001b[1minclude\u001b[22m\u001b[0m\u001b[1m(\u001b[22m\u001b[90mmod\u001b[39m::\u001b[0mModule, \u001b[90m_path\u001b[39m::\u001b[0mString\u001b[0m\u001b[1m)\u001b[22m\n",
      "\u001b[90m    @ \u001b[39m\u001b[90mBase\u001b[39m \u001b[90m.\\\u001b[39m\u001b[90m\u001b[4mBase.jl:418\u001b[24m\u001b[39m\n",
      "  [4] \u001b[0m\u001b[1minclude\u001b[22m\u001b[0m\u001b[1m(\u001b[22m\u001b[90mx\u001b[39m::\u001b[0mString\u001b[0m\u001b[1m)\u001b[22m\n",
      "\u001b[90m    @ \u001b[39m\u001b[35mJuMP\u001b[39m \u001b[90mC:\\Users\\kappe\\.julia\\packages\\JuMP\\I7whV\\src\\\u001b[39m\u001b[90m\u001b[4mJuMP.jl:11\u001b[24m\u001b[39m\n",
      "  [5] top-level scope\n",
      "\u001b[90m    @ \u001b[39m\u001b[90mC:\\Users\\kappe\\.julia\\packages\\JuMP\\I7whV\\src\\\u001b[39m\u001b[90m\u001b[4mJuMP.jl:947\u001b[24m\u001b[39m\n",
      "  [6] \u001b[0m\u001b[1minclude\u001b[22m\n",
      "\u001b[90m    @ \u001b[39m\u001b[90m.\\\u001b[39m\u001b[90m\u001b[4mBase.jl:418\u001b[24m\u001b[39m\u001b[90m [inlined]\u001b[39m\n",
      "  [7] \u001b[0m\u001b[1minclude_package_for_output\u001b[22m\u001b[0m\u001b[1m(\u001b[22m\u001b[90mpkg\u001b[39m::\u001b[0mBase.PkgId, \u001b[90minput\u001b[39m::\u001b[0mString, \u001b[90mdepot_path\u001b[39m::\u001b[0mVector\u001b[90m{String}\u001b[39m, \u001b[90mdl_load_path\u001b[39m::\u001b[0mVector\u001b[90m{String}\u001b[39m, \u001b[90mload_path\u001b[39m::\u001b[0mVector\u001b[90m{String}\u001b[39m, \u001b[90mconcrete_deps\u001b[39m::\u001b[0mVector\u001b[90m{Pair{Base.PkgId, UInt64}}\u001b[39m, \u001b[90msource\u001b[39m::\u001b[0mNothing\u001b[0m\u001b[1m)\u001b[22m\n",
      "\u001b[90m    @ \u001b[39m\u001b[90mBase\u001b[39m \u001b[90m.\\\u001b[39m\u001b[90m\u001b[4mloading.jl:1318\u001b[24m\u001b[39m\n",
      "  [8] top-level scope\n",
      "\u001b[90m    @ \u001b[39m\u001b[90m\u001b[4mnone:1\u001b[24m\u001b[39m\n",
      "  [9] \u001b[0m\u001b[1meval\u001b[22m\n",
      "\u001b[90m    @ \u001b[39m\u001b[90m.\\\u001b[39m\u001b[90m\u001b[4mboot.jl:373\u001b[24m\u001b[39m\u001b[90m [inlined]\u001b[39m\n",
      " [10] \u001b[0m\u001b[1meval\u001b[22m\u001b[0m\u001b[1m(\u001b[22m\u001b[90mx\u001b[39m::\u001b[0mExpr\u001b[0m\u001b[1m)\u001b[22m\n",
      "\u001b[90m    @ \u001b[39m\u001b[90mBase.MainInclude\u001b[39m \u001b[90m.\\\u001b[39m\u001b[90m\u001b[4mclient.jl:453\u001b[24m\u001b[39m\n",
      " [11] top-level scope\n",
      "\u001b[90m    @ \u001b[39m\u001b[90m\u001b[4mnone:1\u001b[24m\u001b[39m\n",
      "in expression starting at C:\\Users\\kappe\\.julia\\packages\\JuMP\\I7whV\\src\\writers.jl:5\n",
      "in expression starting at C:\\Users\\kappe\\.julia\\packages\\JuMP\\I7whV\\src\\JuMP.jl:11\n"
     ]
    },
    {
     "ename": "LoadError",
     "evalue": "Failed to precompile JuMP [4076af6c-e467-56ae-b986-b466b2749572] to C:\\Users\\kappe\\.julia\\compiled\\v1.7\\JuMP\\jl_978B.tmp.",
     "output_type": "error",
     "traceback": [
      "Failed to precompile JuMP [4076af6c-e467-56ae-b986-b466b2749572] to C:\\Users\\kappe\\.julia\\compiled\\v1.7\\JuMP\\jl_978B.tmp.",
      "",
      "Stacktrace:",
      " [1] error(s::String)",
      "   @ Base .\\error.jl:33",
      " [2] compilecache(pkg::Base.PkgId, path::String, internal_stderr::IO, internal_stdout::IO, ignore_loaded_modules::Bool)",
      "   @ Base .\\loading.jl:1466",
      " [3] compilecache(pkg::Base.PkgId, path::String)",
      "   @ Base .\\loading.jl:1410",
      " [4] _require(pkg::Base.PkgId)",
      "   @ Base .\\loading.jl:1120",
      " [5] require(uuidkey::Base.PkgId)",
      "   @ Base .\\loading.jl:1013",
      " [6] require(into::Module, mod::Symbol)",
      "   @ Base .\\loading.jl:997",
      " [7] eval",
      "   @ .\\boot.jl:373 [inlined]",
      " [8] include_string(mapexpr::typeof(REPL.softscope), mod::Module, code::String, filename::String)",
      "   @ Base .\\loading.jl:1196"
     ]
    }
   ],
   "source": [
    "using JuMP"
   ]
  },
  {
   "cell_type": "code",
   "execution_count": 18,
   "metadata": {},
   "outputs": [
    {
     "data": {
      "text/plain": [
       "-0.2447733783382714"
      ]
     },
     "execution_count": 18,
     "metadata": {},
     "output_type": "execute_result"
    }
   ],
   "source": [
    "data = XLSX.readxlsx(\"Stackup_Overlay_error.xlsx\")\n",
    "t = data[\"Layer 1\"][\"A2:A201\"]\n",
    "L1 = data[\"Layer 1\"][\"B2:B201\"]\n",
    "L2 = data[\"Layer 2\"][\"B2:B201\"]\n",
    "L3 = data[\"Layer 3\"][\"B2:B201\"]\n",
    "L4 = data[\"Layer 4\"][\"B2:B201\"]\n",
    "L5 = data[\"Layer 5\"][\"B2:B201\"]\n",
    "u = [L1,L2,L3,L4,L5]\n",
    "#accum = 1\n",
    "#u = [0,0,0,0,0]\n",
    "#for sheetname in XLSX.sheetnames(data)\n",
    "#    u[accum] = data[sheetname][\"B2:B201\"]\n",
    "    #append!(u, data[sheetname][\"B2:B201\"])\n",
    "#    accum += 1\n",
    "#end\n",
    "k = [[0,1,2,3,4,5]]\n",
    "u[2][3]"
   ]
  },
  {
   "cell_type": "markdown",
   "metadata": {},
   "source": [
    "Questions:\n",
    "\n",
    "Do I have to define the variable before I use it in the constraints? How do I do it? ( also x)\n",
    "\n",
    "should the three equations be constraints or should they be in the objective equation?\n",
    "\n"
   ]
  },
  {
   "cell_type": "code",
   "execution_count": 19,
   "metadata": {},
   "outputs": [
    {
     "ename": "LoadError",
     "evalue": "UndefVarError: Model not defined",
     "output_type": "error",
     "traceback": [
      "UndefVarError: Model not defined",
      "",
      "Stacktrace:",
      " [1] top-level scope",
      "   @ In[19]:1",
      " [2] eval",
      "   @ .\\boot.jl:373 [inlined]",
      " [3] include_string(mapexpr::typeof(REPL.softscope), mod::Module, code::String, filename::String)",
      "   @ Base .\\loading.jl:1196"
     ]
    }
   ],
   "source": [
    "m = Model(HiGHS.Optimizer)\n",
    "\n",
    "@variable(m, a[k = 1:5])\n",
    "@variable(m, b[k = 1:5])\n",
    "@variable(m, c[k = 1:5])\n",
    "@variable(m,0 <= gamma[k = 1:5] <= 1)\n",
    "\n",
    "s[k][t] = s[k - 1][t] + u[k][t + 1]\n",
    "\n",
    "\n",
    "@constraint(m, s[k = 0][t] = 0)\n",
    "@constraint(m ,x[k = 1:5][0] = 0)\n",
    "@constraint(m, u[k = 1:5][0] = 0)\n",
    "@constraint(m, sum(gamma[k]) == 1)\n",
    "@constranit(m, x[k][t] = a[k] * x[k][t - 1] + b[k] * u[k][t])\n",
    "\n",
    "@objective(m, Min, gamma[k][t] * abs(s[k-1][t] + c[k] * (a[k] * x[k][t-1] + b[k] * u[k][t]))^2)\n",
    "    \n"
   ]
  },
  {
   "cell_type": "code",
   "execution_count": null,
   "metadata": {},
   "outputs": [],
   "source": [
    "m = Model(HiGHS.Optimizer)\n",
    "\n",
    "@variable(m, a[k = 1:5])\n",
    "@variable(m, b[k = 1:5])\n",
    "@variable(m, c[k = 1:5])\n",
    "@variable(m,0 <= gamma[k = 1:5] <= 1)\n",
    "\n",
    "@constraint(m, s[k = 0][t] == 0)\n",
    "@constraint(m ,x[k = 1:5][0] = 0)\n",
    "@constraint(m, u[k = 1:5][0] = 0)\n",
    "@constraint(m, sum(gamma[k]) == 1)\n",
    "@constranit(m, x[k][t] = a[k] * x[k][t - 1] + b[k] * u[k][t])\n",
    "@constranit(m, u[k][t+1] = c[k] * x[k][t])\n",
    "@constranit(m, s[k][t] = s[k - 1][t] + u[k][t + 1]\n",
    "    \n",
    "@objective(m, Min, sum(gamma[k][t] * abs(s[k][t])^2))\n",
    "    \n"
   ]
  },
  {
   "cell_type": "code",
   "execution_count": null,
   "metadata": {},
   "outputs": [],
   "source": [
    "radler = Model(HiGHS.Optimizer)\n",
    "#set_optimizer_attribute(model, \"logLevel\", 1)\n",
    "\n",
    "@variable(radler, p >= 0, Int)\n",
    "@variable(radler, n >= 0, Int)\n",
    "@variable(radler, d >= 0, Int)\n",
    "@variable(radler, q >= 0, Int)\n",
    "\n",
    "\n",
    "@constraint(radler, 1*p + 5*n + 10*d + 25*q == 99)\n",
    "\n",
    "@objective(radler, Max, 2.5*p + 5*n + 2.268*d + 5.670*q )\n",
    "\n",
    "optimize!(radler)\n",
    "#print(m)\n",
    "#solution_summary(model)"
   ]
  },
  {
   "cell_type": "code",
   "execution_count": null,
   "metadata": {},
   "outputs": [],
   "source": [
    "print(value(p))\n",
    "print(value(n))\n",
    "print(value(d))\n",
    "print(value(q))\n"
   ]
  },
  {
   "cell_type": "code",
   "execution_count": null,
   "metadata": {},
   "outputs": [],
   "source": []
  }
 ],
 "metadata": {
  "kernelspec": {
   "display_name": "Julia 1.7.3",
   "language": "julia",
   "name": "julia-1.7"
  },
  "language_info": {
   "file_extension": ".jl",
   "mimetype": "application/julia",
   "name": "julia",
   "version": "1.7.3"
  }
 },
 "nbformat": 4,
 "nbformat_minor": 2
}
